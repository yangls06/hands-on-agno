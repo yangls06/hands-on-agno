{
 "cells": [
  {
   "cell_type": "code",
   "execution_count": 1,
   "id": "2097e3d8-48eb-4f21-8593-9e2b6744958b",
   "metadata": {},
   "outputs": [
    {
     "name": "stdout",
     "output_type": "stream",
     "text": [
      "\u001b[1m\u001b[31merror\u001b[39m\u001b[0m: No virtual environment found; run `\u001b[32muv venv\u001b[39m` to create an environment, or pass `\u001b[32m--system\u001b[39m` to install into a non-virtual environment\n"
     ]
    }
   ],
   "source": [
    "!uv pip install -U agno anthropic openai yfinance "
   ]
  }
 ],
 "metadata": {
  "kernelspec": {
   "display_name": "Python 3 (ipykernel)",
   "language": "python",
   "name": "python3"
  },
  "language_info": {
   "codemirror_mode": {
    "name": "ipython",
    "version": 3
   },
   "file_extension": ".py",
   "mimetype": "text/x-python",
   "name": "python",
   "nbconvert_exporter": "python",
   "pygments_lexer": "ipython3",
   "version": "3.12.7"
  }
 },
 "nbformat": 4,
 "nbformat_minor": 5
}
