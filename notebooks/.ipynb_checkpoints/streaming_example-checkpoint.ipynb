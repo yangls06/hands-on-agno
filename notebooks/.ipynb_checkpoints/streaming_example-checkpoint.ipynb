
{
 "cells": [
  {
   "cell_type": "code",
   "execution_count": null,
   "id": "setup",
   "metadata": {},
   "outputs": [],
   "source": [
    "import os\n",
    "import asyncio\n",
    "import nest_asyncio\n",
    "from IPython.display import display, Markdown, clear_output\n",
    "import time\n",
    "\n",
    "# Enable async support in Jupyter\n",
    "nest_asyncio.apply()\n",
    "\n",
    "# Access your API keys\n",
    "openai_key = os.environ.get('OPENAI_API_KEY')\n",
    "openai_base_url = os.environ.get('OPENAI_BASE_URL')\n",
    "\n",
    "print(f\"API Key loaded: {'✓' if openai_key else '✗'}\")"
   ]
  },
  {
   "cell_type": "code",
   "execution_count": null,
   "id": "streaming-agent",
   "metadata": {},
   "outputs": [],
   "source": [
    "from agno.agent import Agent\n",
    "from agno.models.openai import OpenAIChat\n",
    "\n",
    "# Create agent with streaming enabled\n",
    "agent = Agent(\n",
    "    model=OpenAIChat(id=\"gpt-4o\", base_url=openai_base_url),\n",
    "    markdown=True,\n",
    "    show_tool_calls=True\n",
    ")\n",
    "\n",
    "def stream_response(prompt):\n",
    "    \"\"\"Helper function to show streaming response with progress\"\"\"\n",
    "    print(\"🤔 Thinking...\")\n",
    "    \n",
    "    # Get response\n",
    "    response = agent.run(prompt)\n",
    "    \n",
    "    # Clear thinking message and show result\n",
    "    clear_output(wait=True)\n",
    "    \n",
    "    # Display the response with nice formatting\n",
    "    display(Markdown(f\"### Response\\n\\n{response.content}\"))\n",
    "    \n",
    "    return response\n",
    "\n",
    "# Test it\n",
    "stream_response(\"Write a creative short story about AI in 3 sentences.\")"
   ]
  },
  {
   "cell_type": "code",
   "execution_count": null,
   "id": "progress-indicator",
   "metadata": {},
   "outputs": [],
   "source": [
    "# Alternative with animated progress indicator\n",
    "import threading\n",
    "\n",
    "def animated_thinking():\n",
    "    \"\"\"Show animated thinking indicator\"\"\"\n",
    "    thinking_chars = ['⠋', '⠙', '⠹', '⠸', '⠼', '⠴', '⠦', '⠧', '⠇', '⠏']\n",
    "    i = 0\n",
    "    while getattr(animated_thinking, 'running', True):\n",
    "        print(f\"\\r{thinking_chars[i % len(thinking_chars)]} Thinking...\", end='', flush=True)\n",
    "        time.sleep(0.1)\n",
    "        i += 1\n",
    "\n",
    "def better_stream_response(prompt):\n",
    "    \"\"\"Response with animated progress indicator\"\"\"\n",
    "    # Start animation\n",
    "    animated_thinking.running = True\n",
    "    animation_thread = threading.Thread(target=animated_thinking)\n",
    "    animation_thread.start()\n",
    "    \n",
    "    try:\n",
    "        # Get response\n",
    "        response = agent.run(prompt)\n",
    "    finally:\n",
    "        # Stop animation\n",
    "        animated_thinking.running = False\n",
    "        animation_thread.join()\n",
    "        \n",
    "    # Clear line and show result\n",
    "    clear_output(wait=True)\n",
    "    display(Markdown(f\"### ✨ Response\\n\\n{response.content}\"))\n",
    "    \n",
    "    return response\n",
    "\n",
    "# Test the animated version\n",
    "better_stream_response(\"Explain quantum computing in simple terms.\")"
   ]
  }
 ],
 "metadata": {
  "kernelspec": {
   "display_name": "Python (uv-venv)",
   "language": "python",
   "name": "uv-venv"
  },
  "language_info": {
   "codemirror_mode": {
    "name": "ipython",
    "version": 3
   },
   "file_extension": ".py",
   "mimetype": "text/x-python",
   "name": "python",
   "nbconvert_exporter": "python",
   "pygments_lexer": "ipython3",
   "version": "3.12.7"
  }
 },
 "nbformat": 4,
 "nbformat_minor": 5
}
