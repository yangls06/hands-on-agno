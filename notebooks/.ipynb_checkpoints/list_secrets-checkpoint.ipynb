
{
 "cells": [
  {
   "cell_type": "code",
   "execution_count": null,
   "id": "list-secrets",
   "metadata": {},
   "outputs": [],
   "source": [
    "import os\n",
    "\n",
    "# List all environment variables (including secrets)\n",
    "print(\"All environment variables:\")\n",
    "for key, value in os.environ.items():\n",
    "    # Show only the key and whether it has a value (for security)\n",
    "    print(f\"{key}: {'[SET]' if value else '[EMPTY]'}\")\n",
    "\n",
    "print(\"\\n\" + \"=\"*50 + \"\\n\")\n",
    "\n",
    "# List only variables that might be secrets (contain 'KEY', 'TOKEN', 'SECRET', etc.)\n",
    "secret_keywords = ['KEY', 'TOKEN', 'SECRET', 'PASSWORD', 'API']\n",
    "print(\"Potential secrets:\")\n",
    "for key in os.environ:\n",
    "    if any(keyword in key.upper() for keyword in secret_keywords):\n",
    "        value = os.environ[key]\n",
    "        print(f\"{key}: {'[SET]' if value else '[EMPTY]'}\")\n",
    "        if value:\n",
    "            print(f\"  Value starts with: {value[:8]}...\")"
   ]
  }
 ],
 "metadata": {
  "kernelspec": {
   "display_name": "Python 3 (ipykernel)",
   "language": "python",
   "name": "python3"
  },
  "language_info": {
   "name": "python",
   "version": "3.12.7"
  }
 },
 "nbformat": 4,
 "nbformat_minor": 5
}
