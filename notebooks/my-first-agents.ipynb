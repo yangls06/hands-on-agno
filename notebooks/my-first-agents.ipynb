{
 "cells": [
  {
   "cell_type": "code",
   "execution_count": 5,
   "id": "0ce2d222",
   "metadata": {},
   "outputs": [],
   "source": [
    "import os\n",
    "import asyncio\n",
    "import nest_asyncio\n",
    "\n",
    "# Enable async support in Jupyter\n",
    "nest_asyncio.apply()\n",
    "\n",
    "# Access your API keys from environment variables\n",
    "openai_key = os.environ.get('OPENAI_API_KEY')\n",
    "claude_key = os.environ.get('ANTHROPIC_API_KEY')\n",
    "openai_base_url = os.environ.get('OPENAI_BASE_URL')\n",
    "claude_base_url = os.environ.get('ANTHROPIC_API_URL')\n",
    "\n",
    "print(f\"API Keys loaded: OpenAI={'✓' if openai_key else '✗'}, Claude={'✓' if claude_key else '✗'}\")"
   ]
  },
  {
   "cell_type": "markdown",
   "id": "225554c4-5af6-47a0-8173-a420a6980e63",
   "metadata": {},
   "source": [
    "## Model"
   ]
  },
  {
   "cell_type": "code",
   "execution_count": 7,
   "id": "660d584c-1ca8-4881-8682-1d7a4edaf287",
   "metadata": {},
   "outputs": [
    {
     "data": {
      "application/vnd.jupyter.widget-view+json": {
       "model_id": "dbab5847b9184c5e917dd91845b0dd04",
       "version_major": 2,
       "version_minor": 0
      },
      "text/plain": [
       "Output()"
      ]
     },
     "metadata": {},
     "output_type": "display_data"
    },
    {
     "data": {
      "text/html": [
       "<pre style=\"white-space:pre;overflow-x:auto;line-height:normal;font-family:Menlo,'DejaVu Sans Mono',consolas,'Courier New',monospace\"></pre>\n"
      ],
      "text/plain": []
     },
     "metadata": {},
     "output_type": "display_data"
    }
   ],
   "source": [
    "from agno.agent import Agent, RunResponse\n",
    "from agno.models.openai import OpenAIChat\n",
    "\n",
    "agent = Agent(\n",
    "    model=OpenAIChat(id=\"gpt-4o\", base_url=openai_base_url),\n",
    "    markdown=True\n",
    ")\n",
    "\n",
    "# Get the response for Jupyter notebook\n",
    "response = agent.run(\"Share a 2 sentence horror story.\")\n",
    "print(response.content)"
   ]
  },
  {
   "cell_type": "code",
   "execution_count": null,
   "id": "c0e621cf-8026-47e6-8759-67036d7a77f1",
   "metadata": {},
   "outputs": [],
   "source": []
  }
 ],
 "metadata": {
  "kernelspec": {
   "display_name": "Python (uv-venv)",
   "language": "python",
   "name": "uv-venv"
  },
  "language_info": {
   "codemirror_mode": {
    "name": "ipython",
    "version": 3
   },
   "file_extension": ".py",
   "mimetype": "text/x-python",
   "name": "python",
   "nbconvert_exporter": "python",
   "pygments_lexer": "ipython3",
   "version": "3.12.7"
  }
 },
 "nbformat": 4,
 "nbformat_minor": 5
}