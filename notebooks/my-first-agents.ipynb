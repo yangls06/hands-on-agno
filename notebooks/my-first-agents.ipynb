{
 "cells": [
  {
   "cell_type": "code",
   "execution_count": 1,
   "id": "0ce2d222",
   "metadata": {},
   "outputs": [],
   "source": [
    "import os\n",
    "\n",
    "# Access your API keys from environment variables\n",
    "openai_key = os.environ.get('OPENAI_API_KEY')\n",
    "claude_key = os.environ.get('ANTHROPIC_API_KEY')"
   ]
  },
  {
   "cell_type": "code",
   "execution_count": 2,
   "id": "e567390d-a6de-4166-9a25-1d4612ba6bb6",
   "metadata": {},
   "outputs": [
    {
     "name": "stdout",
     "output_type": "stream",
     "text": [
      "None\n"
     ]
    }
   ],
   "source": [
    "print(openai_key)"
   ]
  },
  {
   "cell_type": "code",
   "execution_count": null,
   "id": "660d584c-1ca8-4881-8682-1d7a4edaf287",
   "metadata": {},
   "outputs": [],
   "source": []
  }
 ],
 "metadata": {
  "kernelspec": {
   "display_name": "Python (uv-venv)",
   "language": "python",
   "name": "uv-venv"
  },
  "language_info": {
   "codemirror_mode": {
    "name": "ipython",
    "version": 3
   },
   "file_extension": ".py",
   "mimetype": "text/x-python",
   "name": "python",
   "nbconvert_exporter": "python",
   "pygments_lexer": "ipython3",
   "version": "3.12.7"
  }
 },
 "nbformat": 4,
 "nbformat_minor": 5
}
