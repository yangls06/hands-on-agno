{
 "cells": [
  {
   "cell_type": "code",
   "execution_count": 1,
   "id": "0ce2d222",
   "metadata": {},
   "outputs": [
    {
     "name": "stdout",
     "output_type": "stream",
     "text": [
      "API Keys loaded: OpenAI=✓, Claude=✓\n"
     ]
    }
   ],
   "source": [
    "import os\n",
    "import asyncio\n",
    "import nest_asyncio\n",
    "\n",
    "# Enable async support in Jupyter\n",
    "nest_asyncio.apply()\n",
    "\n",
    "# Access your API keys from environment variables\n",
    "openai_key = os.environ.get('OPENAI_API_KEY')\n",
    "claude_key = os.environ.get('ANTHROPIC_API_KEY')\n",
    "openai_base_url = os.environ.get('OPENAI_BASE_URL')\n",
    "claude_base_url = os.environ.get('ANTHROPIC_API_URL')\n",
    "\n",
    "print(f\"API Keys loaded: OpenAI={'✓' if openai_key else '✗'}, Claude={'✓' if claude_key else '✗'}\")"
   ]
  },
  {
   "cell_type": "markdown",
   "id": "225554c4-5af6-47a0-8173-a420a6980e63",
   "metadata": {},
   "source": [
    "## Model"
   ]
  },
  {
   "cell_type": "code",
   "execution_count": 2,
   "id": "660d584c-1ca8-4881-8682-1d7a4edaf287",
   "metadata": {},
   "outputs": [
    {
     "name": "stdout",
     "output_type": "stream",
     "text": [
      "She tucked her son into bed, kissed his forehead, and turned off the light, smiling as he whispered, \"Mommy, can you check if there's a monster under my bed?\" She bent down, only to see her son trembling underneath, wide-eyed as he stammered, \"Mommy, someone's in my bed.\"\n"
     ]
    }
   ],
   "source": [
    "from agno.agent import Agent, RunResponse\n",
    "from agno.models.openai import OpenAIChat\n",
    "\n",
    "agent = Agent(\n",
    "    model=OpenAIChat(id=\"gpt-4o\", base_url=openai_base_url),\n",
    "    markdown=True\n",
    ")\n",
    "\n",
    "# Get the response for Jupyter notebook\n",
    "response = agent.run(\"Share a 2 sentence horror story.\")\n",
    "print(response.content)"
   ]
  },
  {
   "cell_type": "code",
   "execution_count": 3,
   "id": "c0e621cf-8026-47e6-8759-67036d7a77f1",
   "metadata": {},
   "outputs": [
    {
     "data": {
      "application/vnd.jupyter.widget-view+json": {
       "model_id": "f7cfd43ea4614d299e22efbe57e8dd4c",
       "version_major": 2,
       "version_minor": 0
      },
      "text/plain": [
       "Output()"
      ]
     },
     "metadata": {},
     "output_type": "display_data"
    },
    {
     "data": {
      "text/html": [
       "<pre style=\"white-space:pre;overflow-x:auto;line-height:normal;font-family:Menlo,'DejaVu Sans Mono',consolas,'Courier New',monospace\"></pre>\n"
      ],
      "text/plain": []
     },
     "metadata": {},
     "output_type": "display_data"
    }
   ],
   "source": [
    "response = agent.print_response(\"Share a 2 sentence horror story.\")"
   ]
  },
  {
   "cell_type": "code",
   "execution_count": null,
   "id": "9255e9c3-c24a-406f-a49c-226078bb642a",
   "metadata": {},
   "outputs": [],
   "source": []
  }
 ],
 "metadata": {
  "kernelspec": {
   "display_name": "Python (uv-venv)",
   "language": "python",
   "name": "uv-venv"
  },
  "language_info": {
   "codemirror_mode": {
    "name": "ipython",
    "version": 3
   },
   "file_extension": ".py",
   "mimetype": "text/x-python",
   "name": "python",
   "nbconvert_exporter": "python",
   "pygments_lexer": "ipython3",
   "version": "3.12.7"
  }
 },
 "nbformat": 4,
 "nbformat_minor": 5
}
